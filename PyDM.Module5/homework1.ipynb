{
 "cells": [
  {
   "cell_type": "markdown",
   "metadata": {},
   "source": [
    "1. [ ] Go Kaggle and download the most recent StackOverflow Developer Survey results (2018 might be the most recent available).\n",
    "\n",
    "1. [ ] Import it into your notebook and perform an analysis to determine which factors correlate most closely with high marks in the \"Job Satisfaction\" column.\n",
    "\n",
    "1. [ ] Perform an additional analysis to determine which factors correlate most closely with high values in the \"Salary\" column.\n",
    "\n",
    "1. [ ] Given your new understanding of these factors, write up a brief memo (within your notebook) giving advice to newer/younger developers. When pursuing/evaluating career opportunities in the future, what factors should they weight heavily if overall happiness is their goal? What factors should they weight heavily if high-salary is their goal? What kinds of opportunities/activities should they absolutely avoid? Is there a specific location they should try to live in either case? What factors matter, and how should they prioritize those factors?"
   ]
  },
  {
   "cell_type": "code",
   "execution_count": null,
   "metadata": {},
   "outputs": [],
   "source": []
  }
 ],
 "metadata": {
  "kernelspec": {
   "display_name": "Python 3",
   "language": "python",
   "name": "python3"
  },
  "language_info": {
   "codemirror_mode": {
    "name": "ipython",
    "version": 3
   },
   "file_extension": ".py",
   "mimetype": "text/x-python",
   "name": "python",
   "nbconvert_exporter": "python",
   "pygments_lexer": "ipython3",
   "version": "3.8.3"
  }
 },
 "nbformat": 4,
 "nbformat_minor": 4
}
