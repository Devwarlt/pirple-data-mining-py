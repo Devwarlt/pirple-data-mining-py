{
 "cells": [
  {
   "cell_type": "code",
   "execution_count": 1,
   "metadata": {},
   "outputs": [],
   "source": [
    "import pandas as pd"
   ]
  },
  {
   "cell_type": "code",
   "execution_count": 2,
   "metadata": {},
   "outputs": [],
   "source": [
    "df = pd.read_csv(\"../Datasets/nyc-east-river-bicycle-counts.csv\")"
   ]
  },
  {
   "cell_type": "code",
   "execution_count": 3,
   "metadata": {},
   "outputs": [
    {
     "name": "stdout",
     "output_type": "stream",
     "text": [
      "<class 'pandas.core.frame.DataFrame'>\n",
      "RangeIndex: 210 entries, 0 to 209\n",
      "Data columns (total 11 columns):\n",
      " #   Column               Non-Null Count  Dtype  \n",
      "---  ------               --------------  -----  \n",
      " 0   Unnamed: 0           210 non-null    int64  \n",
      " 1   Date                 210 non-null    object \n",
      " 2   Day                  210 non-null    object \n",
      " 3   High Temp (°F)       210 non-null    float64\n",
      " 4   Low Temp (°F)        210 non-null    float64\n",
      " 5   Precipitation        210 non-null    object \n",
      " 6   Brooklyn Bridge      210 non-null    float64\n",
      " 7   Manhattan Bridge     210 non-null    int64  \n",
      " 8   Williamsburg Bridge  210 non-null    float64\n",
      " 9   Queensboro Bridge    210 non-null    float64\n",
      " 10  Total                210 non-null    int64  \n",
      "dtypes: float64(5), int64(3), object(3)\n",
      "memory usage: 18.2+ KB\n"
     ]
    }
   ],
   "source": [
    "df.info()"
   ]
  },
  {
   "cell_type": "code",
   "execution_count": 4,
   "metadata": {},
   "outputs": [],
   "source": [
    "df_2 = pd.read_csv(\"../Datasets/nyc-east-river-bicycle-counts-db-export.csv\")"
   ]
  },
  {
   "cell_type": "code",
   "execution_count": 5,
   "metadata": {},
   "outputs": [
    {
     "name": "stdout",
     "output_type": "stream",
     "text": [
      "<class 'pandas.core.frame.DataFrame'>\n",
      "RangeIndex: 1000 entries, 0 to 999\n",
      "Data columns (total 22 columns):\n",
      " #   Column                 Non-Null Count  Dtype  \n",
      "---  ------                 --------------  -----  \n",
      " 0   ID                     1000 non-null   int64  \n",
      " 1   Date                   1000 non-null   object \n",
      " 2   Day                    1000 non-null   object \n",
      " 3   High Temp              1000 non-null   float64\n",
      " 4   Low Temp               1000 non-null   float64\n",
      " 5   Precipitation          1000 non-null   object \n",
      " 6   Brooklyn Bridge        1000 non-null   int64  \n",
      " 7   Manhattan Bridge       1000 non-null   int64  \n",
      " 8   Williamsburg Bridge    1000 non-null   int64  \n",
      " 9   Queensboro Bridge      1000 non-null   int64  \n",
      " 10  Total                  1000 non-null   int64  \n",
      " 11  ID.1                   1000 non-null   int64  \n",
      " 12  Date.1                 1000 non-null   object \n",
      " 13  Day.1                  1000 non-null   object \n",
      " 14  High Temp.1            1000 non-null   float64\n",
      " 15  Low Temp.1             1000 non-null   float64\n",
      " 16  Precipitation.1        1000 non-null   object \n",
      " 17  Brooklyn Bridge.1      1000 non-null   int64  \n",
      " 18  Manhattan Bridge.1     1000 non-null   int64  \n",
      " 19  Williamsburg Bridge.1  1000 non-null   int64  \n",
      " 20  Queensboro Bridge.1    1000 non-null   int64  \n",
      " 21  Total.1                1000 non-null   int64  \n",
      "dtypes: float64(4), int64(12), object(6)\n",
      "memory usage: 172.0+ KB\n"
     ]
    }
   ],
   "source": [
    "df_2.info()"
   ]
  },
  {
   "cell_type": "code",
   "execution_count": 6,
   "metadata": {},
   "outputs": [
    {
     "data": {
      "text/html": [
       "<div>\n",
       "<style scoped>\n",
       "    .dataframe tbody tr th:only-of-type {\n",
       "        vertical-align: middle;\n",
       "    }\n",
       "\n",
       "    .dataframe tbody tr th {\n",
       "        vertical-align: top;\n",
       "    }\n",
       "\n",
       "    .dataframe thead th {\n",
       "        text-align: right;\n",
       "    }\n",
       "</style>\n",
       "<table border=\"1\" class=\"dataframe\">\n",
       "  <thead>\n",
       "    <tr style=\"text-align: right;\">\n",
       "      <th></th>\n",
       "      <th>ID</th>\n",
       "      <th>Date</th>\n",
       "      <th>Day</th>\n",
       "      <th>High Temp</th>\n",
       "      <th>Low Temp</th>\n",
       "      <th>Precipitation</th>\n",
       "      <th>Brooklyn Bridge</th>\n",
       "      <th>Manhattan Bridge</th>\n",
       "      <th>Williamsburg Bridge</th>\n",
       "      <th>Queensboro Bridge</th>\n",
       "      <th>...</th>\n",
       "      <th>Date.1</th>\n",
       "      <th>Day.1</th>\n",
       "      <th>High Temp.1</th>\n",
       "      <th>Low Temp.1</th>\n",
       "      <th>Precipitation.1</th>\n",
       "      <th>Brooklyn Bridge.1</th>\n",
       "      <th>Manhattan Bridge.1</th>\n",
       "      <th>Williamsburg Bridge.1</th>\n",
       "      <th>Queensboro Bridge.1</th>\n",
       "      <th>Total.1</th>\n",
       "    </tr>\n",
       "  </thead>\n",
       "  <tbody>\n",
       "    <tr>\n",
       "      <th>0</th>\n",
       "      <td>15</td>\n",
       "      <td>2016-04-16 00:00:00</td>\n",
       "      <td>2016-04-16 00:00:00</td>\n",
       "      <td>66.0</td>\n",
       "      <td>45.0</td>\n",
       "      <td>0</td>\n",
       "      <td>2384</td>\n",
       "      <td>4316</td>\n",
       "      <td>5624</td>\n",
       "      <td>4051</td>\n",
       "      <td>...</td>\n",
       "      <td>2016-04-02 00:00:00</td>\n",
       "      <td>2016-04-02 00:00:00</td>\n",
       "      <td>55.0</td>\n",
       "      <td>48.9</td>\n",
       "      <td>0.15</td>\n",
       "      <td>827</td>\n",
       "      <td>1646</td>\n",
       "      <td>2565</td>\n",
       "      <td>1884</td>\n",
       "      <td>6922</td>\n",
       "    </tr>\n",
       "    <tr>\n",
       "      <th>1</th>\n",
       "      <td>16</td>\n",
       "      <td>2016-04-17 00:00:00</td>\n",
       "      <td>2016-04-17 00:00:00</td>\n",
       "      <td>73.9</td>\n",
       "      <td>46.0</td>\n",
       "      <td>0</td>\n",
       "      <td>3147</td>\n",
       "      <td>4969</td>\n",
       "      <td>5867</td>\n",
       "      <td>4197</td>\n",
       "      <td>...</td>\n",
       "      <td>2016-04-02 00:00:00</td>\n",
       "      <td>2016-04-02 00:00:00</td>\n",
       "      <td>55.0</td>\n",
       "      <td>48.9</td>\n",
       "      <td>0.15</td>\n",
       "      <td>827</td>\n",
       "      <td>1646</td>\n",
       "      <td>2565</td>\n",
       "      <td>1884</td>\n",
       "      <td>6922</td>\n",
       "    </tr>\n",
       "    <tr>\n",
       "      <th>2</th>\n",
       "      <td>17</td>\n",
       "      <td>2016-04-18 00:00:00</td>\n",
       "      <td>2016-04-18 00:00:00</td>\n",
       "      <td>81.0</td>\n",
       "      <td>52.0</td>\n",
       "      <td>0</td>\n",
       "      <td>3871</td>\n",
       "      <td>6823</td>\n",
       "      <td>7432</td>\n",
       "      <td>4964</td>\n",
       "      <td>...</td>\n",
       "      <td>2016-04-02 00:00:00</td>\n",
       "      <td>2016-04-02 00:00:00</td>\n",
       "      <td>55.0</td>\n",
       "      <td>48.9</td>\n",
       "      <td>0.15</td>\n",
       "      <td>827</td>\n",
       "      <td>1646</td>\n",
       "      <td>2565</td>\n",
       "      <td>1884</td>\n",
       "      <td>6922</td>\n",
       "    </tr>\n",
       "  </tbody>\n",
       "</table>\n",
       "<p>3 rows × 22 columns</p>\n",
       "</div>"
      ],
      "text/plain": [
       "   ID                 Date                  Day  High Temp  Low Temp  \\\n",
       "0  15  2016-04-16 00:00:00  2016-04-16 00:00:00       66.0      45.0   \n",
       "1  16  2016-04-17 00:00:00  2016-04-17 00:00:00       73.9      46.0   \n",
       "2  17  2016-04-18 00:00:00  2016-04-18 00:00:00       81.0      52.0   \n",
       "\n",
       "  Precipitation  Brooklyn Bridge  Manhattan Bridge  Williamsburg Bridge  \\\n",
       "0             0             2384              4316                 5624   \n",
       "1             0             3147              4969                 5867   \n",
       "2             0             3871              6823                 7432   \n",
       "\n",
       "   Queensboro Bridge  ...               Date.1                Day.1  \\\n",
       "0               4051  ...  2016-04-02 00:00:00  2016-04-02 00:00:00   \n",
       "1               4197  ...  2016-04-02 00:00:00  2016-04-02 00:00:00   \n",
       "2               4964  ...  2016-04-02 00:00:00  2016-04-02 00:00:00   \n",
       "\n",
       "  High Temp.1 Low Temp.1  Precipitation.1  Brooklyn Bridge.1  \\\n",
       "0        55.0       48.9             0.15                827   \n",
       "1        55.0       48.9             0.15                827   \n",
       "2        55.0       48.9             0.15                827   \n",
       "\n",
       "  Manhattan Bridge.1  Williamsburg Bridge.1  Queensboro Bridge.1  Total.1  \n",
       "0               1646                   2565                 1884     6922  \n",
       "1               1646                   2565                 1884     6922  \n",
       "2               1646                   2565                 1884     6922  \n",
       "\n",
       "[3 rows x 22 columns]"
      ]
     },
     "execution_count": 6,
     "metadata": {},
     "output_type": "execute_result"
    }
   ],
   "source": [
    "df_2.head(3)"
   ]
  },
  {
   "cell_type": "code",
   "execution_count": null,
   "metadata": {},
   "outputs": [],
   "source": []
  }
 ],
 "metadata": {
  "kernelspec": {
   "display_name": "Python 3",
   "language": "python",
   "name": "python3"
  },
  "language_info": {
   "codemirror_mode": {
    "name": "ipython",
    "version": 3
   },
   "file_extension": ".py",
   "mimetype": "text/x-python",
   "name": "python",
   "nbconvert_exporter": "python",
   "pygments_lexer": "ipython3",
   "version": "3.8.3"
  }
 },
 "nbformat": 4,
 "nbformat_minor": 4
}
