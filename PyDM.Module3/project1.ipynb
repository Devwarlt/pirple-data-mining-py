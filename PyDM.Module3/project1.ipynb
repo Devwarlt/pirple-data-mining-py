{
 "cells": [
  {
   "cell_type": "code",
   "execution_count": 1,
   "metadata": {},
   "outputs": [],
   "source": [
    "import random\n",
    "import seaborn as sns\n",
    "import matplotlib.pyplot as mpl\n",
    "\n",
    "import pyspark as ps\n",
    "from pyspark.ml import Pipeline\n",
    "from pyspark.ml.feature import VectorAssembler\n",
    "from pyspark.ml.regression import LinearRegression\n",
    "from pyspark.sql.dataframe import DataFrame\n",
    "from pyspark.sql.context import SQLContext\n",
    "\n",
    "import pandas as pd\n",
    "from pandas.core.frame import DataFrame as PDataFrame\n",
    "\n",
    "%matplotlib inline"
   ]
  },
  {
   "cell_type": "code",
   "execution_count": 2,
   "metadata": {},
   "outputs": [],
   "source": [
    "# Define number of players to be used as reference\n",
    "# for Spark-ML training process\n",
    "NUM_RANDOM_PLAYERS = 100\n",
    "\n",
    "# Define number of players to display\n",
    "NUM_PLAYERS_DISPLAY_STD_COUT = 20"
   ]
  },
  {
   "cell_type": "code",
   "execution_count": 3,
   "metadata": {},
   "outputs": [],
   "source": [
    "def quartiles_resolver(df:DataFrame, col:str)->type(tuple):\n",
    "    ordered_df = df.orderBy(col)\n",
    "    count = ordered_df.count()\n",
    "    quot = count >> 1\n",
    "    rem = count % 2\n",
    "    m_index = quot if rem == 0 else quot + rem\n",
    "    p_df = ordered_df.select('*').toPandas()\n",
    "    q1 = p_df[col][m_index - 1 :].mean()\n",
    "    q2 = p_df[col][m_index]\n",
    "    q3 = p_df[col][: m_index].mean()\n",
    "    return (q1, q2, q3, p_df)\n",
    "\n",
    "def interquartile_infos(df:DataFrame, col:str)->type(tuple):\n",
    "    q1, q2, q3, p_df = quartiles_resolver(df, col)\n",
    "    v_min = p_df[col].min()\n",
    "    v_max = p_df[col].max()\n",
    "    v_med = p_df[col].mean()\n",
    "    return v_min, v_max, v_med, q1, q2, q3, p_df\n",
    "\n",
    "def get_random_player_ids(amount:int, list_len:int)->type(list):\n",
    "    return random.sample(range(0, list_len), amount)"
   ]
  },
  {
   "cell_type": "code",
   "execution_count": 4,
   "metadata": {},
   "outputs": [],
   "source": [
    "# Quad-core parallel processing\n",
    "spark = ps.sql.SparkSession.builder\\\n",
    "    .master('local[4]')\\\n",
    "    .appName('spark-ml')\\\n",
    "    .getOrCreate()\n",
    "\n",
    "# Disable Arrow-based columnar data transfers\n",
    "spark.conf.set(\"spark.sql.execution.arrow.enabled\", \"false\")"
   ]
  },
  {
   "cell_type": "code",
   "execution_count": 5,
   "metadata": {},
   "outputs": [],
   "source": [
    "df = SQLContext(spark.sparkContext).read.csv(\n",
    "    path='../Datasets/data.csv',\n",
    "    header=True,\n",
    "    quote='\"',\n",
    "    sep=\",\",\n",
    "    inferSchema=True\n",
    ")"
   ]
  },
  {
   "cell_type": "code",
   "execution_count": 6,
   "metadata": {},
   "outputs": [],
   "source": [
    "filtered_df = df[[\n",
    "    'ID',\n",
    "    'Name',\n",
    "    'Age',\n",
    "    'Nationality',\n",
    "    'Overall',\n",
    "    'Potential',\n",
    "    'Club',\n",
    "    'Value',\n",
    "    'International Reputation',\n",
    "    'Release Clause'\n",
    "]]"
   ]
  },
  {
   "cell_type": "code",
   "execution_count": 7,
   "metadata": {},
   "outputs": [
    {
     "name": "stdout",
     "output_type": "stream",
     "text": [
      "+------+-----------------+---+-----------+-------+---------+-------------------+-------+------------------------+--------------+\n",
      "|    ID|             Name|Age|Nationality|Overall|Potential|               Club|  Value|International Reputation|Release Clause|\n",
      "+------+-----------------+---+-----------+-------+---------+-------------------+-------+------------------------+--------------+\n",
      "|158023|         L. Messi| 31|  Argentina|     94|       94|       FC Barcelona|€110.5M|                       5|       €226.5M|\n",
      "| 20801|Cristiano Ronaldo| 33|   Portugal|     94|       94|           Juventus|   €77M|                       5|       €127.1M|\n",
      "|190871|        Neymar Jr| 26|     Brazil|     92|       93|Paris Saint-Germain|€118.5M|                       5|       €228.1M|\n",
      "|193080|           De Gea| 27|      Spain|     91|       93|  Manchester United|   €72M|                       4|       €138.6M|\n",
      "|192985|     K. De Bruyne| 27|    Belgium|     91|       92|    Manchester City|  €102M|                       4|       €196.4M|\n",
      "|183277|        E. Hazard| 27|    Belgium|     91|       91|            Chelsea|   €93M|                       4|       €172.1M|\n",
      "|177003|        L. Modrić| 32|    Croatia|     91|       91|        Real Madrid|   €67M|                       4|       €137.4M|\n",
      "|176580|        L. Suárez| 31|    Uruguay|     91|       91|       FC Barcelona|   €80M|                       5|         €164M|\n",
      "|155862|     Sergio Ramos| 32|      Spain|     91|       91|        Real Madrid|   €51M|                       4|       €104.6M|\n",
      "|200389|         J. Oblak| 25|   Slovenia|     90|       93|    Atlético Madrid|   €68M|                       3|       €144.5M|\n",
      "|188545|   R. Lewandowski| 29|     Poland|     90|       90|  FC Bayern München|   €77M|                       4|       €127.1M|\n",
      "|182521|         T. Kroos| 28|    Germany|     90|       90|        Real Madrid| €76.5M|                       4|       €156.8M|\n",
      "|182493|         D. Godín| 32|    Uruguay|     90|       90|    Atlético Madrid|   €44M|                       3|        €90.2M|\n",
      "|168542|      David Silva| 32|      Spain|     90|       90|    Manchester City|   €60M|                       4|         €111M|\n",
      "|215914|         N. Kanté| 27|     France|     89|       90|            Chelsea|   €63M|                       3|       €121.3M|\n",
      "|211110|        P. Dybala| 24|  Argentina|     89|       94|           Juventus|   €89M|                       3|       €153.5M|\n",
      "|202126|          H. Kane| 24|    England|     89|       91|  Tottenham Hotspur| €83.5M|                       3|       €160.7M|\n",
      "|194765|     A. Griezmann| 27|     France|     89|       90|    Atlético Madrid|   €78M|                       4|       €165.8M|\n",
      "|192448|    M. ter Stegen| 26|    Germany|     89|       92|       FC Barcelona|   €58M|                       3|       €123.3M|\n",
      "|192119|      T. Courtois| 26|    Belgium|     89|       90|        Real Madrid| €53.5M|                       4|       €113.7M|\n",
      "+------+-----------------+---+-----------+-------+---------+-------------------+-------+------------------------+--------------+\n",
      "only showing top 20 rows\n",
      "\n"
     ]
    }
   ],
   "source": [
    "filtered_df.show(NUM_PLAYERS_DISPLAY_STD_COUT)"
   ]
  },
  {
   "cell_type": "code",
   "execution_count": 8,
   "metadata": {},
   "outputs": [],
   "source": [
    "min_scr, max_scr, median, q1, q2, q3, filtered_p_df = interquartile_infos(filtered_df, 'Age')"
   ]
  },
  {
   "cell_type": "code",
   "execution_count": 9,
   "metadata": {},
   "outputs": [
    {
     "name": "stdout",
     "output_type": "stream",
     "text": [
      "min: 16\n",
      "max: 45\n",
      "median: 25.122205745043114 (IQR: 25)\n",
      "lower quartile: 28.967157293497365\n",
      "upper quartile: 21.27724077328647\n"
     ]
    },
    {
     "data": {
      "image/png": "[encoded data removed]",
      "text/plain": [
       "<Figure size 432x288 with 1 Axes>"
      ]
     },
     "metadata": {
      "needs_background": "light"
     },
     "output_type": "display_data"
    }
   ],
   "source": [
    "filtered_p_df.hist(['Age'])\n",
    "print(\"min: {}\".format(min_scr))\n",
    "print(\"max: {}\".format(max_scr))\n",
    "print(\"median: {} (IQR: {})\".format(median, q2))\n",
    "print(\"lower quartile: {}\".format(q1))\n",
    "print(\"upper quartile: {}\".format(q3))\n",
    "mpl.show()"
   ]
  },
  {
   "cell_type": "code",
   "execution_count": 10,
   "metadata": {},
   "outputs": [
    {
     "data": {
      "image/png": "[encoded data removed]",
      "text/plain": [
       "<Figure size 432x288 with 1 Axes>"
      ]
     },
     "metadata": {
      "needs_background": "light"
     },
     "output_type": "display_data"
    }
   ],
   "source": [
    "ax = sns.boxplot(x=filtered_p_df['Age'])\n",
    "mpl.show()"
   ]
  },
  {
   "cell_type": "code",
   "execution_count": 11,
   "metadata": {},
   "outputs": [
    {
     "data": {
      "image/png": "[encoded data removed]",
      "text/plain": [
       "<Figure size 432x288 with 1 Axes>"
      ]
     },
     "metadata": {
      "needs_background": "light"
     },
     "output_type": "display_data"
    },
    {
     "data": {
      "image/png": "[encoded data removed]",
      "text/plain": [
       "<Figure size 432x288 with 1 Axes>"
      ]
     },
     "metadata": {
      "needs_background": "light"
     },
     "output_type": "display_data"
    },
    {
     "data": {
      "image/png": "[encoded data removed]",
      "text/plain": [
       "<Figure size 432x288 with 1 Axes>"
      ]
     },
     "metadata": {
      "needs_background": "light"
     },
     "output_type": "display_data"
    }
   ],
   "source": [
    "ax = sns.boxplot(x=filtered_p_df['Age'], y=filtered_p_df['ID'])\n",
    "mpl.show()\n",
    "ax = sns.boxplot(y=filtered_p_df['Age'], x=filtered_p_df['Overall'])\n",
    "mpl.show()\n",
    "ax = sns.boxplot(y=filtered_p_df['Age'], x=filtered_p_df['Potential'])\n",
    "mpl.show()"
   ]
  },
  {
   "cell_type": "code",
   "execution_count": 12,
   "metadata": {},
   "outputs": [],
   "source": [
    "rnd_player_ids = get_random_player_ids(NUM_RANDOM_PLAYERS, len(filtered_p_df))"
   ]
  },
  {
   "cell_type": "code",
   "execution_count": 13,
   "metadata": {},
   "outputs": [],
   "source": [
    "rnd_df = PDataFrame(columns=filtered_p_df.columns)"
   ]
  },
  {
   "cell_type": "code",
   "execution_count": 14,
   "metadata": {},
   "outputs": [],
   "source": [
    "for rnd_player_id in rnd_player_ids:\n",
    "    rnd_player = []\n",
    "    for column in rnd_df.columns:\n",
    "        rnd_player.append(filtered_p_df[column][rnd_player_id])\n",
    "    rnd_df.loc[len(rnd_df)] = rnd_player"
   ]
  },
  {
   "cell_type": "code",
   "execution_count": 15,
   "metadata": {},
   "outputs": [
    {
     "data": {
      "text/html": [
       "<div>\n",
       "<style scoped>\n",
       "    .dataframe tbody tr th:only-of-type {\n",
       "        vertical-align: middle;\n",
       "    }\n",
       "\n",
       "    .dataframe tbody tr th {\n",
       "        vertical-align: top;\n",
       "    }\n",
       "\n",
       "    .dataframe thead th {\n",
       "        text-align: right;\n",
       "    }\n",
       "</style>\n",
       "<table border=\"1\" class=\"dataframe\">\n",
       "  <thead>\n",
       "    <tr style=\"text-align: right;\">\n",
       "      <th></th>\n",
       "      <th>ID</th>\n",
       "      <th>Name</th>\n",
       "      <th>Age</th>\n",
       "      <th>Nationality</th>\n",
       "      <th>Overall</th>\n",
       "      <th>Potential</th>\n",
       "      <th>Club</th>\n",
       "      <th>Value</th>\n",
       "      <th>International Reputation</th>\n",
       "      <th>Release Clause</th>\n",
       "    </tr>\n",
       "  </thead>\n",
       "  <tbody>\n",
       "    <tr>\n",
       "      <th>0</th>\n",
       "      <td>216154</td>\n",
       "      <td>J. Elsey</td>\n",
       "      <td>24</td>\n",
       "      <td>Australia</td>\n",
       "      <td>66</td>\n",
       "      <td>69</td>\n",
       "      <td>Adelaide United</td>\n",
       "      <td>€675K</td>\n",
       "      <td>1.0</td>\n",
       "      <td>€894K</td>\n",
       "    </tr>\n",
       "    <tr>\n",
       "      <th>1</th>\n",
       "      <td>232929</td>\n",
       "      <td>M. Mihara</td>\n",
       "      <td>29</td>\n",
       "      <td>Japan</td>\n",
       "      <td>66</td>\n",
       "      <td>66</td>\n",
       "      <td>Vissel Kobe</td>\n",
       "      <td>€475K</td>\n",
       "      <td>1.0</td>\n",
       "      <td>€594K</td>\n",
       "    </tr>\n",
       "    <tr>\n",
       "      <th>2</th>\n",
       "      <td>210213</td>\n",
       "      <td>G. Korte</td>\n",
       "      <td>24</td>\n",
       "      <td>Netherlands</td>\n",
       "      <td>66</td>\n",
       "      <td>68</td>\n",
       "      <td>NAC Breda</td>\n",
       "      <td>€800K</td>\n",
       "      <td>1.0</td>\n",
       "      <td>€1.2M</td>\n",
       "    </tr>\n",
       "    <tr>\n",
       "      <th>3</th>\n",
       "      <td>209988</td>\n",
       "      <td>L. Ayçiçek</td>\n",
       "      <td>24</td>\n",
       "      <td>Germany</td>\n",
       "      <td>67</td>\n",
       "      <td>72</td>\n",
       "      <td>SpVgg Greuther Fürth</td>\n",
       "      <td>€1M</td>\n",
       "      <td>1.0</td>\n",
       "      <td>€1.7M</td>\n",
       "    </tr>\n",
       "    <tr>\n",
       "      <th>4</th>\n",
       "      <td>241947</td>\n",
       "      <td>F. Amuzu</td>\n",
       "      <td>18</td>\n",
       "      <td>Belgium</td>\n",
       "      <td>67</td>\n",
       "      <td>81</td>\n",
       "      <td>RSC Anderlecht</td>\n",
       "      <td>€1.6M</td>\n",
       "      <td>1.0</td>\n",
       "      <td>€3.3M</td>\n",
       "    </tr>\n",
       "    <tr>\n",
       "      <th>5</th>\n",
       "      <td>204226</td>\n",
       "      <td>D. Lezcano</td>\n",
       "      <td>28</td>\n",
       "      <td>Paraguay</td>\n",
       "      <td>72</td>\n",
       "      <td>72</td>\n",
       "      <td>FC Ingolstadt 04</td>\n",
       "      <td>€3.2M</td>\n",
       "      <td>1.0</td>\n",
       "      <td>€5.1M</td>\n",
       "    </tr>\n",
       "    <tr>\n",
       "      <th>6</th>\n",
       "      <td>243729</td>\n",
       "      <td>N. Sette</td>\n",
       "      <td>18</td>\n",
       "      <td>Australia</td>\n",
       "      <td>53</td>\n",
       "      <td>67</td>\n",
       "      <td>Melbourne Victory</td>\n",
       "      <td>€120K</td>\n",
       "      <td>1.0</td>\n",
       "      <td>€225K</td>\n",
       "    </tr>\n",
       "    <tr>\n",
       "      <th>7</th>\n",
       "      <td>234177</td>\n",
       "      <td>N. Ennis</td>\n",
       "      <td>19</td>\n",
       "      <td>England</td>\n",
       "      <td>58</td>\n",
       "      <td>75</td>\n",
       "      <td>Wolverhampton Wanderers</td>\n",
       "      <td>€280K</td>\n",
       "      <td>1.0</td>\n",
       "      <td>€707K</td>\n",
       "    </tr>\n",
       "    <tr>\n",
       "      <th>8</th>\n",
       "      <td>232523</td>\n",
       "      <td>B. Trawally</td>\n",
       "      <td>23</td>\n",
       "      <td>Gambia</td>\n",
       "      <td>72</td>\n",
       "      <td>78</td>\n",
       "      <td>Guizhou Hengfeng FC</td>\n",
       "      <td>€4.3M</td>\n",
       "      <td>1.0</td>\n",
       "      <td>€10.2M</td>\n",
       "    </tr>\n",
       "    <tr>\n",
       "      <th>9</th>\n",
       "      <td>215111</td>\n",
       "      <td>G. Verón</td>\n",
       "      <td>28</td>\n",
       "      <td>Argentina</td>\n",
       "      <td>71</td>\n",
       "      <td>71</td>\n",
       "      <td>Independiente</td>\n",
       "      <td>€2.4M</td>\n",
       "      <td>1.0</td>\n",
       "      <td>€3.4M</td>\n",
       "    </tr>\n",
       "    <tr>\n",
       "      <th>10</th>\n",
       "      <td>234671</td>\n",
       "      <td>J. Odgaard</td>\n",
       "      <td>19</td>\n",
       "      <td>Denmark</td>\n",
       "      <td>62</td>\n",
       "      <td>80</td>\n",
       "      <td>Sassuolo</td>\n",
       "      <td>€650K</td>\n",
       "      <td>1.0</td>\n",
       "      <td>€1.5M</td>\n",
       "    </tr>\n",
       "    <tr>\n",
       "      <th>11</th>\n",
       "      <td>142270</td>\n",
       "      <td>J. Thomsen</td>\n",
       "      <td>36</td>\n",
       "      <td>Denmark</td>\n",
       "      <td>67</td>\n",
       "      <td>67</td>\n",
       "      <td>Randers FC</td>\n",
       "      <td>€90K</td>\n",
       "      <td>1.0</td>\n",
       "      <td>€113K</td>\n",
       "    </tr>\n",
       "    <tr>\n",
       "      <th>12</th>\n",
       "      <td>220132</td>\n",
       "      <td>Zaldúa</td>\n",
       "      <td>26</td>\n",
       "      <td>Spain</td>\n",
       "      <td>75</td>\n",
       "      <td>78</td>\n",
       "      <td>Real Sociedad</td>\n",
       "      <td>€7M</td>\n",
       "      <td>1.0</td>\n",
       "      <td>€15.2M</td>\n",
       "    </tr>\n",
       "    <tr>\n",
       "      <th>13</th>\n",
       "      <td>246399</td>\n",
       "      <td>C. Björk</td>\n",
       "      <td>18</td>\n",
       "      <td>Sweden</td>\n",
       "      <td>50</td>\n",
       "      <td>70</td>\n",
       "      <td>IFK Norrköping</td>\n",
       "      <td>€60K</td>\n",
       "      <td>1.0</td>\n",
       "      <td>€135K</td>\n",
       "    </tr>\n",
       "    <tr>\n",
       "      <th>14</th>\n",
       "      <td>245598</td>\n",
       "      <td>I. Baba</td>\n",
       "      <td>22</td>\n",
       "      <td>Ghana</td>\n",
       "      <td>60</td>\n",
       "      <td>69</td>\n",
       "      <td>RCD Mallorca</td>\n",
       "      <td>€325K</td>\n",
       "      <td>1.0</td>\n",
       "      <td>€569K</td>\n",
       "    </tr>\n",
       "    <tr>\n",
       "      <th>15</th>\n",
       "      <td>214613</td>\n",
       "      <td>F. Micolta</td>\n",
       "      <td>28</td>\n",
       "      <td>Colombia</td>\n",
       "      <td>67</td>\n",
       "      <td>67</td>\n",
       "      <td>Puebla FC</td>\n",
       "      <td>€800K</td>\n",
       "      <td>1.0</td>\n",
       "      <td>€1.4M</td>\n",
       "    </tr>\n",
       "    <tr>\n",
       "      <th>16</th>\n",
       "      <td>240620</td>\n",
       "      <td>A. Ba</td>\n",
       "      <td>20</td>\n",
       "      <td>France</td>\n",
       "      <td>58</td>\n",
       "      <td>66</td>\n",
       "      <td>Southend United</td>\n",
       "      <td>€190K</td>\n",
       "      <td>1.0</td>\n",
       "      <td>€371K</td>\n",
       "    </tr>\n",
       "    <tr>\n",
       "      <th>17</th>\n",
       "      <td>191910</td>\n",
       "      <td>Kim Shin Wook</td>\n",
       "      <td>30</td>\n",
       "      <td>Korea Republic</td>\n",
       "      <td>69</td>\n",
       "      <td>69</td>\n",
       "      <td>Jeonbuk Hyundai Motors</td>\n",
       "      <td>€1M</td>\n",
       "      <td>2.0</td>\n",
       "      <td>€1.3M</td>\n",
       "    </tr>\n",
       "    <tr>\n",
       "      <th>18</th>\n",
       "      <td>214226</td>\n",
       "      <td>R. Loaiza</td>\n",
       "      <td>24</td>\n",
       "      <td>Colombia</td>\n",
       "      <td>70</td>\n",
       "      <td>78</td>\n",
       "      <td>Atlético Nacional</td>\n",
       "      <td>€2.3M</td>\n",
       "      <td>1.0</td>\n",
       "      <td>€3.6M</td>\n",
       "    </tr>\n",
       "    <tr>\n",
       "      <th>19</th>\n",
       "      <td>238033</td>\n",
       "      <td>F. Nita</td>\n",
       "      <td>30</td>\n",
       "      <td>Romania</td>\n",
       "      <td>71</td>\n",
       "      <td>71</td>\n",
       "      <td>Sparta Praha</td>\n",
       "      <td>€1.5M</td>\n",
       "      <td>1.0</td>\n",
       "      <td>€3.3M</td>\n",
       "    </tr>\n",
       "  </tbody>\n",
       "</table>\n",
       "</div>"
      ],
      "text/plain": [
       "        ID           Name Age     Nationality Overall Potential  \\\n",
       "0   216154       J. Elsey  24       Australia      66        69   \n",
       "1   232929      M. Mihara  29           Japan      66        66   \n",
       "2   210213       G. Korte  24     Netherlands      66        68   \n",
       "3   209988     L. Ayçiçek  24         Germany      67        72   \n",
       "4   241947       F. Amuzu  18         Belgium      67        81   \n",
       "5   204226     D. Lezcano  28        Paraguay      72        72   \n",
       "6   243729       N. Sette  18       Australia      53        67   \n",
       "7   234177       N. Ennis  19         England      58        75   \n",
       "8   232523    B. Trawally  23          Gambia      72        78   \n",
       "9   215111       G. Verón  28       Argentina      71        71   \n",
       "10  234671     J. Odgaard  19         Denmark      62        80   \n",
       "11  142270     J. Thomsen  36         Denmark      67        67   \n",
       "12  220132         Zaldúa  26           Spain      75        78   \n",
       "13  246399       C. Björk  18          Sweden      50        70   \n",
       "14  245598        I. Baba  22           Ghana      60        69   \n",
       "15  214613     F. Micolta  28        Colombia      67        67   \n",
       "16  240620          A. Ba  20          France      58        66   \n",
       "17  191910  Kim Shin Wook  30  Korea Republic      69        69   \n",
       "18  214226      R. Loaiza  24        Colombia      70        78   \n",
       "19  238033        F. Nita  30         Romania      71        71   \n",
       "\n",
       "                       Club  Value  International Reputation Release Clause  \n",
       "0           Adelaide United  €675K                       1.0          €894K  \n",
       "1               Vissel Kobe  €475K                       1.0          €594K  \n",
       "2                 NAC Breda  €800K                       1.0          €1.2M  \n",
       "3      SpVgg Greuther Fürth    €1M                       1.0          €1.7M  \n",
       "4            RSC Anderlecht  €1.6M                       1.0          €3.3M  \n",
       "5          FC Ingolstadt 04  €3.2M                       1.0          €5.1M  \n",
       "6         Melbourne Victory  €120K                       1.0          €225K  \n",
       "7   Wolverhampton Wanderers  €280K                       1.0          €707K  \n",
       "8       Guizhou Hengfeng FC  €4.3M                       1.0         €10.2M  \n",
       "9             Independiente  €2.4M                       1.0          €3.4M  \n",
       "10                 Sassuolo  €650K                       1.0          €1.5M  \n",
       "11               Randers FC   €90K                       1.0          €113K  \n",
       "12            Real Sociedad    €7M                       1.0         €15.2M  \n",
       "13           IFK Norrköping   €60K                       1.0          €135K  \n",
       "14             RCD Mallorca  €325K                       1.0          €569K  \n",
       "15                Puebla FC  €800K                       1.0          €1.4M  \n",
       "16          Southend United  €190K                       1.0          €371K  \n",
       "17   Jeonbuk Hyundai Motors    €1M                       2.0          €1.3M  \n",
       "18        Atlético Nacional  €2.3M                       1.0          €3.6M  \n",
       "19             Sparta Praha  €1.5M                       1.0          €3.3M  "
      ]
     },
     "execution_count": 15,
     "metadata": {},
     "output_type": "execute_result"
    }
   ],
   "source": [
    "rnd_df.head(NUM_PLAYERS_DISPLAY_STD_COUT)"
   ]
  },
  {
   "cell_type": "code",
   "execution_count": 16,
   "metadata": {},
   "outputs": [],
   "source": [
    "df = spark.createDataFrame(rnd_df)"
   ]
  },
  {
   "cell_type": "code",
   "execution_count": 17,
   "metadata": {},
   "outputs": [
    {
     "name": "stdout",
     "output_type": "stream",
     "text": [
      "+------+-------------+---+--------------+-------+---------+--------------------+-----+------------------------+--------------+\n",
      "|    ID|         Name|Age|   Nationality|Overall|Potential|                Club|Value|International Reputation|Release Clause|\n",
      "+------+-------------+---+--------------+-------+---------+--------------------+-----+------------------------+--------------+\n",
      "|216154|     J. Elsey| 24|     Australia|     66|       69|     Adelaide United|€675K|                     1.0|         €894K|\n",
      "|232929|    M. Mihara| 29|         Japan|     66|       66|         Vissel Kobe|€475K|                     1.0|         €594K|\n",
      "|210213|     G. Korte| 24|   Netherlands|     66|       68|           NAC Breda|€800K|                     1.0|         €1.2M|\n",
      "|209988|   L. Ayçiçek| 24|       Germany|     67|       72|SpVgg Greuther Fürth|  €1M|                     1.0|         €1.7M|\n",
      "|241947|     F. Amuzu| 18|       Belgium|     67|       81|      RSC Anderlecht|€1.6M|                     1.0|         €3.3M|\n",
      "|204226|   D. Lezcano| 28|      Paraguay|     72|       72|    FC Ingolstadt 04|€3.2M|                     1.0|         €5.1M|\n",
      "|243729|     N. Sette| 18|     Australia|     53|       67|   Melbourne Victory|€120K|                     1.0|         €225K|\n",
      "|234177|     N. Ennis| 19|       England|     58|       75|Wolverhampton Wan...|€280K|                     1.0|         €707K|\n",
      "|232523|  B. Trawally| 23|        Gambia|     72|       78| Guizhou Hengfeng FC|€4.3M|                     1.0|        €10.2M|\n",
      "|215111|     G. Verón| 28|     Argentina|     71|       71|       Independiente|€2.4M|                     1.0|         €3.4M|\n",
      "|234671|   J. Odgaard| 19|       Denmark|     62|       80|            Sassuolo|€650K|                     1.0|         €1.5M|\n",
      "|142270|   J. Thomsen| 36|       Denmark|     67|       67|          Randers FC| €90K|                     1.0|         €113K|\n",
      "|220132|       Zaldúa| 26|         Spain|     75|       78|       Real Sociedad|  €7M|                     1.0|        €15.2M|\n",
      "|246399|     C. Björk| 18|        Sweden|     50|       70|      IFK Norrköping| €60K|                     1.0|         €135K|\n",
      "|245598|      I. Baba| 22|         Ghana|     60|       69|        RCD Mallorca|€325K|                     1.0|         €569K|\n",
      "|214613|   F. Micolta| 28|      Colombia|     67|       67|           Puebla FC|€800K|                     1.0|         €1.4M|\n",
      "|240620|        A. Ba| 20|        France|     58|       66|     Southend United|€190K|                     1.0|         €371K|\n",
      "|191910|Kim Shin Wook| 30|Korea Republic|     69|       69|Jeonbuk Hyundai M...|  €1M|                     2.0|         €1.3M|\n",
      "|214226|    R. Loaiza| 24|      Colombia|     70|       78|   Atlético Nacional|€2.3M|                     1.0|         €3.6M|\n",
      "|238033|      F. Nita| 30|       Romania|     71|       71|        Sparta Praha|€1.5M|                     1.0|         €3.3M|\n",
      "+------+-------------+---+--------------+-------+---------+--------------------+-----+------------------------+--------------+\n",
      "only showing top 20 rows\n",
      "\n"
     ]
    }
   ],
   "source": [
    "df.show(NUM_PLAYERS_DISPLAY_STD_COUT)"
   ]
  },
  {
   "cell_type": "code",
   "execution_count": 18,
   "metadata": {},
   "outputs": [
    {
     "name": "stdout",
     "output_type": "stream",
     "text": [
      "root\n",
      " |-- ID: long (nullable = true)\n",
      " |-- Name: string (nullable = true)\n",
      " |-- Age: long (nullable = true)\n",
      " |-- Nationality: string (nullable = true)\n",
      " |-- Overall: long (nullable = true)\n",
      " |-- Potential: long (nullable = true)\n",
      " |-- Club: string (nullable = true)\n",
      " |-- Value: string (nullable = true)\n",
      " |-- International Reputation: double (nullable = true)\n",
      " |-- Release Clause: string (nullable = true)\n",
      "\n"
     ]
    }
   ],
   "source": [
    "df.printSchema()"
   ]
  },
  {
   "cell_type": "code",
   "execution_count": 19,
   "metadata": {},
   "outputs": [],
   "source": [
    "ml_asm = VectorAssembler(\n",
    "    inputCols=['Age', 'Overall', 'Potential', 'International Reputation'],\n",
    "    outputCol='Features'\n",
    ")\n",
    "ml_vasm = ml_asm.transform(df)"
   ]
  },
  {
   "cell_type": "code",
   "execution_count": 20,
   "metadata": {},
   "outputs": [
    {
     "name": "stdout",
     "output_type": "stream",
     "text": [
      "+------+-------------+--------------------+\n",
      "|    ID|         Name|            Features|\n",
      "+------+-------------+--------------------+\n",
      "|216154|     J. Elsey|[24.0,66.0,69.0,1.0]|\n",
      "|232929|    M. Mihara|[29.0,66.0,66.0,1.0]|\n",
      "|210213|     G. Korte|[24.0,66.0,68.0,1.0]|\n",
      "|209988|   L. Ayçiçek|[24.0,67.0,72.0,1.0]|\n",
      "|241947|     F. Amuzu|[18.0,67.0,81.0,1.0]|\n",
      "|204226|   D. Lezcano|[28.0,72.0,72.0,1.0]|\n",
      "|243729|     N. Sette|[18.0,53.0,67.0,1.0]|\n",
      "|234177|     N. Ennis|[19.0,58.0,75.0,1.0]|\n",
      "|232523|  B. Trawally|[23.0,72.0,78.0,1.0]|\n",
      "|215111|     G. Verón|[28.0,71.0,71.0,1.0]|\n",
      "|234671|   J. Odgaard|[19.0,62.0,80.0,1.0]|\n",
      "|142270|   J. Thomsen|[36.0,67.0,67.0,1.0]|\n",
      "|220132|       Zaldúa|[26.0,75.0,78.0,1.0]|\n",
      "|246399|     C. Björk|[18.0,50.0,70.0,1.0]|\n",
      "|245598|      I. Baba|[22.0,60.0,69.0,1.0]|\n",
      "|214613|   F. Micolta|[28.0,67.0,67.0,1.0]|\n",
      "|240620|        A. Ba|[20.0,58.0,66.0,1.0]|\n",
      "|191910|Kim Shin Wook|[30.0,69.0,69.0,2.0]|\n",
      "|214226|    R. Loaiza|[24.0,70.0,78.0,1.0]|\n",
      "|238033|      F. Nita|[30.0,71.0,71.0,1.0]|\n",
      "+------+-------------+--------------------+\n",
      "only showing top 20 rows\n",
      "\n"
     ]
    }
   ],
   "source": [
    "ml_vasm.select(['ID', 'Name', 'Features']).show(NUM_PLAYERS_DISPLAY_STD_COUT)"
   ]
  },
  {
   "cell_type": "code",
   "execution_count": 21,
   "metadata": {},
   "outputs": [],
   "source": [
    "df_parts = ml_vasm.randomSplit([0.7, 0.3])\n",
    "training_df = df_parts[0]\n",
    "testing_df = df_parts[1]"
   ]
  },
  {
   "cell_type": "code",
   "execution_count": 22,
   "metadata": {},
   "outputs": [
    {
     "name": "stdout",
     "output_type": "stream",
     "text": [
      "+-------+-----------+-----------------+-----------------+-----------------+------------------------+\n",
      "|summary|       Name|              Age|          Overall|        Potential|International Reputation|\n",
      "+-------+-----------+-----------------+-----------------+-----------------+------------------------+\n",
      "|  count|         74|               74|               74|               74|                      74|\n",
      "|   mean|       null|24.93243243243243|64.98648648648648|70.06756756756756|       1.027027027027027|\n",
      "| stddev|       null|4.298235002789832|5.742161406918355|5.422760458338794|     0.16326908396901554|\n",
      "|    min|A. Arellano|               18|               50|               56|                     1.0|\n",
      "|    max|     Zaldúa|               37|               79|               86|                     2.0|\n",
      "+-------+-----------+-----------------+-----------------+-----------------+------------------------+\n",
      "\n"
     ]
    }
   ],
   "source": [
    "training_df.describe(['Name', 'Age', 'Overall', 'Potential', 'International Reputation']).show(NUM_PLAYERS_DISPLAY_STD_COUT)"
   ]
  },
  {
   "cell_type": "code",
   "execution_count": 23,
   "metadata": {},
   "outputs": [
    {
     "name": "stdout",
     "output_type": "stream",
     "text": [
      "+-------+------------------+-----------------+-----------------+------------------------+\n",
      "|summary|               Age|          Overall|        Potential|International Reputation|\n",
      "+-------+------------------+-----------------+-----------------+------------------------+\n",
      "|  count|                26|               26|               26|                      26|\n",
      "|   mean|23.923076923076923|66.03846153846153|71.92307692307692|      1.1153846153846154|\n",
      "| stddev| 4.740658831201224|7.602529943279511|6.560018761699251|      0.4314554973040049|\n",
      "|    min|                17|               52|               63|                     1.0|\n",
      "|    max|                35|               82|               87|                     3.0|\n",
      "+-------+------------------+-----------------+-----------------+------------------------+\n",
      "\n"
     ]
    }
   ],
   "source": [
    "testing_df.describe(['Age', 'Overall', 'Potential', 'International Reputation']).show(NUM_PLAYERS_DISPLAY_STD_COUT)"
   ]
  },
  {
   "cell_type": "code",
   "execution_count": 27,
   "metadata": {},
   "outputs": [],
   "source": [
    "ml_lr = LinearRegression(\n",
    "    featuresCol='Features',\n",
    "    labelCol='Potential',\n",
    "    predictionCol='Potential (Prediction)'\n",
    ")\n",
    "ml_lr_model = ml_lr.fit(training_df)"
   ]
  },
  {
   "cell_type": "code",
   "execution_count": 28,
   "metadata": {},
   "outputs": [],
   "source": [
    "ml_lr_preds = ml_lr_model.transform(testing_df)"
   ]
  },
  {
   "cell_type": "code",
   "execution_count": 29,
   "metadata": {},
   "outputs": [
    {
     "name": "stdout",
     "output_type": "stream",
     "text": [
      "+---+-------+---------+------------------------+----------------------+\n",
      "|Age|Overall|Potential|International Reputation|Potential (Prediction)|\n",
      "+---+-------+---------+------------------------+----------------------+\n",
      "| 35|     65|       65|                     1.0|     64.99999999999993|\n",
      "| 24|     66|       68|                     1.0|     68.00000000000007|\n",
      "| 24|     76|       79|                     1.0|     79.00000000000001|\n",
      "| 28|     67|       67|                     1.0|     67.00000000000003|\n",
      "| 30|     71|       71|                     1.0|     70.99999999999997|\n",
      "| 18|     53|       67|                     1.0|     67.00000000000001|\n",
      "| 29|     73|       73|                     2.0|     73.00000000000001|\n",
      "| 28|     71|       71|                     1.0|     71.00000000000001|\n",
      "| 28|     63|       63|                     1.0|     63.00000000000005|\n",
      "| 23|     71|       77|                     1.0|                  77.0|\n",
      "| 20|     69|       77|                     1.0|     77.00000000000001|\n",
      "| 20|     60|       72|                     1.0|     71.99999999999999|\n",
      "| 18|     53|       65|                     1.0|     65.00000000000004|\n",
      "| 18|     54|       69|                     1.0|                  69.0|\n",
      "| 31|     66|       66|                     1.0|     65.99999999999999|\n",
      "| 29|     67|       69|                     1.0|     68.99999999999999|\n",
      "| 26|     70|       70|                     1.0|     70.00000000000004|\n",
      "| 23|     56|       63|                     1.0|     63.00000000000004|\n",
      "| 24|     65|       70|                     1.0|     70.00000000000001|\n",
      "| 20|     71|       81|                     1.0|     80.99999999999997|\n",
      "+---+-------+---------+------------------------+----------------------+\n",
      "only showing top 20 rows\n",
      "\n"
     ]
    }
   ],
   "source": [
    "ml_lr_preds.select(['Age', 'Overall', 'Potential', 'International Reputation', 'Potential (Prediction)']).show(NUM_PLAYERS_DISPLAY_STD_COUT)"
   ]
  },
  {
   "cell_type": "code",
   "execution_count": null,
   "metadata": {},
   "outputs": [],
   "source": []
  }
 ],
 "metadata": {
  "kernelspec": {
   "display_name": "Python 3",
   "language": "python",
   "name": "python3"
  },
  "language_info": {
   "codemirror_mode": {
    "name": "ipython",
    "version": 3
   },
   "file_extension": ".py",
   "mimetype": "text/x-python",
   "name": "python",
   "nbconvert_exporter": "python",
   "pygments_lexer": "ipython3",
   "version": "3.8.3"
  }
 },
 "nbformat": 4,
 "nbformat_minor": 4
}
